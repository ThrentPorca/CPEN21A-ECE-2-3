{
  "nbformat": 4,
  "nbformat_minor": 0,
  "metadata": {
    "colab": {
      "name": "Midterm Exam.ipynb",
      "provenance": [],
      "authorship_tag": "ABX9TyMUkbwfVi/0wrQbWw5P4Vdt",
      "include_colab_link": true
    },
    "kernelspec": {
      "name": "python3",
      "display_name": "Python 3"
    },
    "language_info": {
      "name": "python"
    }
  },
  "cells": [
    {
      "cell_type": "markdown",
      "metadata": {
        "id": "view-in-github",
        "colab_type": "text"
      },
      "source": [
        "<a href=\"https://colab.research.google.com/github/ThrentPorca/CPEN21A-ECE-2-3/blob/main/Midterm_Exam.ipynb\" target=\"_parent\"><img src=\"https://colab.research.google.com/assets/colab-badge.svg\" alt=\"Open In Colab\"/></a>"
      ]
    },
    {
      "cell_type": "markdown",
      "metadata": {
        "id": "pf9tfshvtBdq"
      },
      "source": [
        "####Problem Statement 1"
      ]
    },
    {
      "cell_type": "code",
      "metadata": {
        "colab": {
          "base_uri": "https://localhost:8080/"
        },
        "id": "-wkf8BvBtJdj",
        "outputId": "f506aedf-7c0b-4b37-a949-0be19876cae4"
      },
      "source": [
        "p= \"Thrent Genoves Porca\"\n",
        "a= \"202014980\"\n",
        "s= \"20 years old\"\n",
        "S= \"October 04,2001\"\n",
        "i= 'Langkaan 2, Dasmarinas City, Cavite'\n",
        "n= 'Bachelor of Science in Electronics and Communication Engineering'\n",
        "g= '1.42'\n",
        "print(p)  #a\n",
        "print(a)  #b\n",
        "print(s)  #c\n",
        "print(S)  #d\n",
        "print(i)  #e\n",
        "print(n)  #f\n",
        "print(g)  #g "
      ],
      "execution_count": 24,
      "outputs": [
        {
          "output_type": "stream",
          "name": "stdout",
          "text": [
            "Thrent Genoves Porca\n",
            "202014980\n",
            "20 years old\n",
            "October 04,2001\n",
            "Langkaan 2, Dasmarinas City, Cavite\n",
            "Bachelor of Science in Electronics and Communication Engineering\n",
            "1.42\n"
          ]
        }
      ]
    },
    {
      "cell_type": "markdown",
      "metadata": {
        "id": "GU452xPZuqPQ"
      },
      "source": [
        "##### Problem Statement 2"
      ]
    },
    {
      "cell_type": "code",
      "metadata": {
        "colab": {
          "base_uri": "https://localhost:8080/"
        },
        "id": "y4MjjW5RvoV3",
        "outputId": "d659ad75-718f-4d51-e580-8feb4593db32"
      },
      "source": [
        "n=4\n",
        "answ=\"Y\"\n",
        "print(2<n and n<6)                      #a\n",
        "print(2<n or n==6)                      #b\n",
        "print(not 2<n or n==6)                  #c\n",
        "print(not n<6)                          #d\n",
        "print(answ==\"Y\"or answ==\"y\")            #e\n",
        "print(answ==\"Y\" and answ==\"y\")          #f\n",
        "print(not answ==\"y\")                    #g\n",
        "print((2<n and n==5+1) or answ==\"No\")   #h\n",
        "print((n==2 and n==7)or answ==\"Y\")      #i\n",
        "print(n==2and (n==7 or answ==\"Y\"))      #j"
      ],
      "execution_count": 20,
      "outputs": [
        {
          "output_type": "stream",
          "name": "stdout",
          "text": [
            "True\n",
            "True\n",
            "False\n",
            "False\n",
            "True\n",
            "False\n",
            "True\n",
            "False\n",
            "True\n",
            "False\n"
          ]
        }
      ]
    },
    {
      "cell_type": "markdown",
      "metadata": {
        "id": "GCcqqemJzXlV"
      },
      "source": [
        "#### Problem Statement 3"
      ]
    },
    {
      "cell_type": "code",
      "metadata": {
        "colab": {
          "base_uri": "https://localhost:8080/"
        },
        "id": "oT0yNXaBzbY0",
        "outputId": "77ff4437-1e5e-444a-aa5c-f9e5c0a97a6a"
      },
      "source": [
        "x=2\n",
        "y=-3\n",
        "w=7\n",
        "z=-10\n",
        "print(x/y)          #a                   \n",
        "print(w/y/x)        #b\n",
        "print(z/y%x)        #c\n",
        "print(x%-y*w)       #d\n",
        "print(x%y)          #e\n",
        "print(z%w-y/x*5+5)  #f\n",
        "print(9-x%(2+y))    #g\n",
        "print(z//w)         #h\n",
        "print((2+y)**2)     #i\n",
        "print(w/x*2)        #j"
      ],
      "execution_count": 33,
      "outputs": [
        {
          "output_type": "stream",
          "name": "stdout",
          "text": [
            "-0.6666666666666666\n",
            "-1.1666666666666667\n",
            "1.3333333333333335\n",
            "14\n",
            "-1\n",
            "16.5\n",
            "9\n",
            "-2\n",
            "1\n",
            "7.0\n"
          ]
        }
      ]
    }
  ]
}