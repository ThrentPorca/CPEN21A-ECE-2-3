{
  "nbformat": 4,
  "nbformat_minor": 0,
  "metadata": {
    "colab": {
      "name": "Demo1.ipynb",
      "provenance": [],
      "include_colab_link": true
    },
    "kernelspec": {
      "name": "python3",
      "display_name": "Python 3"
    },
    "language_info": {
      "name": "python"
    }
  },
  "cells": [
    {
      "cell_type": "markdown",
      "metadata": {
        "id": "view-in-github",
        "colab_type": "text"
      },
      "source": [
        "<a href=\"https://colab.research.google.com/github/ThrentPorca/CPEN21A-ECE-2-3/blob/main/Demo1.ipynb\" target=\"_parent\"><img src=\"https://colab.research.google.com/assets/colab-badge.svg\" alt=\"Open In Colab\"/></a>"
      ]
    },
    {
      "cell_type": "markdown",
      "metadata": {
        "id": "WZawrKMkjiWQ"
      },
      "source": [
        "#Python Indention"
      ]
    },
    {
      "cell_type": "code",
      "metadata": {
        "colab": {
          "base_uri": "https://localhost:8080/"
        },
        "id": "8xP1gMaqjnYA",
        "outputId": "757e4e73-b477-4d0f-d688-ee3d3504cba0"
      },
      "source": [
        "if 7>3:\n",
        "  print(\"Seven is greater than three!\") #This code shows a String of words"
      ],
      "execution_count": 1,
      "outputs": [
        {
          "output_type": "stream",
          "name": "stdout",
          "text": [
            "Seven is greater than three!\n"
          ]
        }
      ]
    },
    {
      "cell_type": "markdown",
      "metadata": {
        "id": "3cDC0fJSl2ii"
      },
      "source": [
        "###Pyhton Variable"
      ]
    },
    {
      "cell_type": "code",
      "metadata": {
        "colab": {
          "base_uri": "https://localhost:8080/"
        },
        "id": "Ku7ZiwvBl8jd",
        "outputId": "e8b741cd-bdf0-4aa2-8cac-a948050fdc8c"
      },
      "source": [
        "a, b, c=6,5,4\n",
        "z = \"Erna\"  #This is a type of string\n",
        "x = 'Gemma'   #This is a type of string\n",
        "H = 'Marites'\n",
        "print(a)\n",
        "print(b)\n",
        "print(c)\n",
        "print(z)\n",
        "print(x)\n",
        "print(H)"
      ],
      "execution_count": 2,
      "outputs": [
        {
          "output_type": "stream",
          "name": "stdout",
          "text": [
            "6\n",
            "5\n",
            "4\n",
            "Erna\n",
            "Gemma\n",
            "Marites\n"
          ]
        }
      ]
    },
    {
      "cell_type": "markdown",
      "metadata": {
        "id": "2A7cr7YMmgT6"
      },
      "source": [
        "###Casting"
      ]
    },
    {
      "cell_type": "code",
      "metadata": {
        "colab": {
          "base_uri": "https://localhost:8080/"
        },
        "id": "MChCanexmiyB",
        "outputId": "59857dde-d85c-48cf-ea32-8486bc256c5b"
      },
      "source": [
        "print(int(5))"
      ],
      "execution_count": 5,
      "outputs": [
        {
          "output_type": "stream",
          "name": "stdout",
          "text": [
            "5\n"
          ]
        }
      ]
    },
    {
      "cell_type": "code",
      "metadata": {
        "colab": {
          "base_uri": "https://localhost:8080/"
        },
        "id": "0KP8Ewu2mwxI",
        "outputId": "d6e7ed26-d41f-4175-8cc0-46ce9a0cde68"
      },
      "source": [
        "f = 34.35\n",
        "print(type(f))"
      ],
      "execution_count": 9,
      "outputs": [
        {
          "output_type": "stream",
          "name": "stdout",
          "text": [
            "<class 'float'>\n"
          ]
        }
      ]
    },
    {
      "cell_type": "code",
      "metadata": {
        "colab": {
          "base_uri": "https://localhost:8080/"
        },
        "id": "5LG6fQIeoEhr",
        "outputId": "939688bc-1134-4d4b-e10f-3953a9c71777"
      },
      "source": [
        "x, y, z = \"Gemma\",\"Anna\", \"Fe\"\n",
        "print(x)\n",
        "print(y)\n",
        "print(z)"
      ],
      "execution_count": 10,
      "outputs": [
        {
          "output_type": "stream",
          "name": "stdout",
          "text": [
            "Gemma\n",
            "Anna\n",
            "Fe\n"
          ]
        }
      ]
    },
    {
      "cell_type": "code",
      "metadata": {
        "colab": {
          "base_uri": "https://localhost:8080/"
        },
        "id": "-7zbAbZfoOYy",
        "outputId": "0255220c-ac2b-48b9-863e-51b98ff1a167"
      },
      "source": [
        "x = y = z = \"mine\"  # Multiple variable with single value\n",
        "print(x)\n",
        "print(y)\n",
        "print(z)"
      ],
      "execution_count": 11,
      "outputs": [
        {
          "output_type": "stream",
          "name": "stdout",
          "text": [
            "mine\n",
            "mine\n",
            "mine\n"
          ]
        }
      ]
    },
    {
      "cell_type": "code",
      "metadata": {
        "colab": {
          "base_uri": "https://localhost:8080/"
        },
        "id": "LbdhgHLqofVd",
        "outputId": "0e4ff773-8d91-46aa-998c-a0e29893b6ab"
      },
      "source": [
        "k = \"myself\"\n",
        "print(\"I love\"\" \"+ k)"
      ],
      "execution_count": 14,
      "outputs": [
        {
          "output_type": "stream",
          "name": "stdout",
          "text": [
            "I love myself\n"
          ]
        }
      ]
    },
    {
      "cell_type": "markdown",
      "metadata": {
        "id": "A6hOLte0o_u6"
      },
      "source": [
        "#Operations in Python"
      ]
    },
    {
      "cell_type": "code",
      "metadata": {
        "colab": {
          "base_uri": "https://localhost:8080/"
        },
        "id": "wTlI1AH5pCRY",
        "outputId": "a7607bd9-1d69-4784-b4ec-ebf21ee3e420"
      },
      "source": [
        "v = 20\n",
        "x = 30\n",
        "z = 40\n",
        "print(v-x)"
      ],
      "execution_count": 24,
      "outputs": [
        {
          "output_type": "stream",
          "name": "stdout",
          "text": [
            "-10\n"
          ]
        }
      ]
    },
    {
      "cell_type": "code",
      "metadata": {
        "colab": {
          "base_uri": "https://localhost:8080/"
        },
        "id": "_grb3lhlpHK_",
        "outputId": "f3728194-685b-46a0-9764-760ff15ed9c4"
      },
      "source": [
        "v*=x    #Is the same as v = v*x\n",
        "print(v)"
      ],
      "execution_count": 17,
      "outputs": [
        {
          "output_type": "stream",
          "name": "stdout",
          "text": [
            "600\n"
          ]
        }
      ]
    },
    {
      "cell_type": "code",
      "metadata": {
        "colab": {
          "base_uri": "https://localhost:8080/"
        },
        "id": "Eka9shGCptvo",
        "outputId": "cdadfa4a-f140-4afc-889c-da058dbdaa75"
      },
      "source": [
        "v<=x and v<=x"
      ],
      "execution_count": 18,
      "outputs": [
        {
          "output_type": "execute_result",
          "data": {
            "text/plain": [
              "False"
            ]
          },
          "metadata": {},
          "execution_count": 18
        }
      ]
    },
    {
      "cell_type": "code",
      "metadata": {
        "colab": {
          "base_uri": "https://localhost:8080/"
        },
        "id": "Kw6kj4reqKlD",
        "outputId": "cb3121c1-1cae-4341-ab96-d2247c121b97"
      },
      "source": [
        "x<v or v==x"
      ],
      "execution_count": 20,
      "outputs": [
        {
          "output_type": "execute_result",
          "data": {
            "text/plain": [
              "True"
            ]
          },
          "metadata": {},
          "execution_count": 20
        }
      ]
    },
    {
      "cell_type": "code",
      "metadata": {
        "colab": {
          "base_uri": "https://localhost:8080/"
        },
        "id": "wuGPC_k-qVtU",
        "outputId": "4dfcb92a-642e-4e6e-f34b-0206202008b3"
      },
      "source": [
        "not (x<z and z==x)"
      ],
      "execution_count": 26,
      "outputs": [
        {
          "output_type": "execute_result",
          "data": {
            "text/plain": [
              "True"
            ]
          },
          "metadata": {},
          "execution_count": 26
        }
      ]
    },
    {
      "cell_type": "code",
      "metadata": {
        "colab": {
          "base_uri": "https://localhost:8080/"
        },
        "id": "duPcc8BQqa8S",
        "outputId": "2502cb69-0401-48c7-e094-7de46c705bb5"
      },
      "source": [
        "z is not z"
      ],
      "execution_count": 37,
      "outputs": [
        {
          "output_type": "execute_result",
          "data": {
            "text/plain": [
              "False"
            ]
          },
          "metadata": {},
          "execution_count": 37
        }
      ]
    }
  ]
}