{
  "nbformat": 4,
  "nbformat_minor": 0,
  "metadata": {
    "colab": {
      "name": "Lab1.ipynb",
      "provenance": [],
      "authorship_tag": "ABX9TyPnWDOMm7FaVFy/p1bw+c2D",
      "include_colab_link": true
    },
    "kernelspec": {
      "name": "python3",
      "display_name": "Python 3"
    },
    "language_info": {
      "name": "python"
    }
  },
  "cells": [
    {
      "cell_type": "markdown",
      "metadata": {
        "id": "view-in-github",
        "colab_type": "text"
      },
      "source": [
        "<a href=\"https://colab.research.google.com/github/ThrentPorca/CPEN21A-ECE-2-3/blob/main/Lab1.ipynb\" target=\"_parent\"><img src=\"https://colab.research.google.com/assets/colab-badge.svg\" alt=\"Open In Colab\"/></a>"
      ]
    },
    {
      "cell_type": "markdown",
      "metadata": {
        "id": "B-XTcHs-jd2E"
      },
      "source": [
        "###Laboratory 1"
      ]
    },
    {
      "cell_type": "code",
      "metadata": {
        "colab": {
          "base_uri": "https://localhost:8080/"
        },
        "id": "1Wqr_rNQjw1v",
        "outputId": "2aebab56-3ba1-4184-b36f-4e87e7b02555"
      },
      "source": [
        "print(\"Welcome to Phyton Programming\")"
      ],
      "execution_count": 2,
      "outputs": [
        {
          "output_type": "stream",
          "name": "stdout",
          "text": [
            "Welcome to Phyton Programming\n"
          ]
        }
      ]
    },
    {
      "cell_type": "code",
      "metadata": {
        "colab": {
          "base_uri": "https://localhost:8080/"
        },
        "id": "W8TViZsIk6oK",
        "outputId": "c7415078-f95d-42f8-f594-5fb411c74892"
      },
      "source": [
        "t=\"Thrent G. Porca\"\n",
        "g=\"Block 54, Lot 17, Phase 3, Cityhomes Resortville, Langkaan 2, Dasmarinas City, Cavite\"\n",
        "p= \"20 years old\"\n",
        "print(\"Name:\"\" \"+ t)\n",
        "print(\"Address:\"\" \"+g)\n",
        "print(\"Age:\"\" \"+p)"
      ],
      "execution_count": 24,
      "outputs": [
        {
          "output_type": "stream",
          "name": "stdout",
          "text": [
            "Name: Thrent G. Porca\n",
            "Address: Block 54, Lot 17, Phase 3, Cityhomes Resortville, Langkaan 2, Dasmarinas City, Cavite\n",
            "Age: 20 years old\n"
          ]
        }
      ]
    }
  ]
}