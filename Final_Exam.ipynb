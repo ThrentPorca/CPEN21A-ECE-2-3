{
  "nbformat": 4,
  "nbformat_minor": 0,
  "metadata": {
    "colab": {
      "name": "Final Exam.ipynb",
      "provenance": [],
      "authorship_tag": "ABX9TyOjVdcSd2AlyiI1IKY26x5I",
      "include_colab_link": true
    },
    "kernelspec": {
      "name": "python3",
      "display_name": "Python 3"
    },
    "language_info": {
      "name": "python"
    }
  },
  "cells": [
    {
      "cell_type": "markdown",
      "metadata": {
        "id": "view-in-github",
        "colab_type": "text"
      },
      "source": [
        "<a href=\"https://colab.research.google.com/github/ThrentPorca/CPEN21A-ECE-2-3/blob/main/Final_Exam.ipynb\" target=\"_parent\"><img src=\"https://colab.research.google.com/assets/colab-badge.svg\" alt=\"Open In Colab\"/></a>"
      ]
    },
    {
      "cell_type": "markdown",
      "source": [
        "#Final Exam"
      ],
      "metadata": {
        "id": "Hyd0DiSloyz9"
      }
    },
    {
      "cell_type": "markdown",
      "source": [
        "##Problem Statement 1"
      ],
      "metadata": {
        "id": "PYUoQ8ebo57t"
      }
    },
    {
      "cell_type": "code",
      "source": [
        "#Create a Python program that will produce an output of sum of 10 numbers that are less than 5 using FOR LOOP statement\n",
        "sum=0\n",
        "num=[-10,-8,-6,-4,-2,0,1,2,3,4]\n",
        "for x in num:\n",
        "  print(x)\n",
        "\n",
        "  sum=sum+x\n",
        "print(\"The sum total of 10 numbers less than 5 is\", sum)"
      ],
      "metadata": {
        "colab": {
          "base_uri": "https://localhost:8080/"
        },
        "id": "Ec1plyDuo-4M",
        "outputId": "c1dbe52b-68bf-4da1-ec31-1c85bc190397"
      },
      "execution_count": 6,
      "outputs": [
        {
          "output_type": "stream",
          "name": "stdout",
          "text": [
            "-10\n",
            "-8\n",
            "-6\n",
            "-4\n",
            "-2\n",
            "0\n",
            "1\n",
            "2\n",
            "3\n",
            "4\n",
            "The sum total of 10 numbers less than 5 is -20\n"
          ]
        }
      ]
    },
    {
      "cell_type": "markdown",
      "source": [
        "##Problem Statement 2"
      ],
      "metadata": {
        "id": "YIj90UB-x3ne"
      }
    },
    {
      "cell_type": "code",
      "source": [
        "#Create a Python program that will produce accept five numbers and determine the sum of first and last number among the five numbers entered using WHILE LOOP\n",
        "count = 0\n",
        "num = []\n",
        "while count < 5:\n",
        "  user_input= float(input(f\"Enter number {count + 1}: \"))\n",
        "  count += 1\n",
        "  num.append(user_input)\n",
        "print(\"The sum of the first and last number is\", num[0] + num[4])\n",
        "\n"
      ],
      "metadata": {
        "colab": {
          "base_uri": "https://localhost:8080/"
        },
        "id": "WUZvbrktx7H2",
        "outputId": "92d9e227-c861-4edb-dce3-52cdca7f6c4a"
      },
      "execution_count": 1,
      "outputs": [
        {
          "output_type": "stream",
          "name": "stdout",
          "text": [
            "Enter number 1: 35.5\n",
            "Enter number 2: 40\n",
            "Enter number 3: 69.5\n",
            "Enter number 4: 123.45\n",
            "Enter number 5: 567.89\n",
            "The sum of the first and last number is 603.39\n"
          ]
        }
      ]
    },
    {
      "cell_type": "markdown",
      "source": [
        "##Problem Statement 3"
      ],
      "metadata": {
        "id": "OHeWNI5J22n5"
      }
    },
    {
      "cell_type": "code",
      "source": [
        "#Create a Python program to calculate student grades. It accepts a numerical grade as input and it will display the character grade as output based on the given scale: (Use Nested-IF-Else statement)\n",
        "Grades=int(input(\"Input your Grades:\"))\n",
        "if Grades>=90:\n",
        "  print(\"A\")\n",
        "elif 80<=Grades<=89:\n",
        "  print(\"B\")\n",
        "elif 70<=Grades<=79:\n",
        "  print(\"C\")\n",
        "elif 60<=Grades<=69:\n",
        "  print(\"D\")\n",
        "else:\n",
        "  print(\"F\")"
      ],
      "metadata": {
        "colab": {
          "base_uri": "https://localhost:8080/"
        },
        "id": "MzN-ifHz26M4",
        "outputId": "328cf3e9-79c8-47b7-d761-ac4d00c57ea7"
      },
      "execution_count": 28,
      "outputs": [
        {
          "output_type": "stream",
          "name": "stdout",
          "text": [
            "Input your Grades:83\n",
            "B\n"
          ]
        }
      ]
    }
  ]
}