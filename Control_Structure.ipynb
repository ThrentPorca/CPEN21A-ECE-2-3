{
  "nbformat": 4,
  "nbformat_minor": 0,
  "metadata": {
    "colab": {
      "name": "Control Structure.ipynb",
      "provenance": [],
      "authorship_tag": "ABX9TyMSi/kgrfmiNjMkfwaM92UF",
      "include_colab_link": true
    },
    "kernelspec": {
      "name": "python3",
      "display_name": "Python 3"
    },
    "language_info": {
      "name": "python"
    }
  },
  "cells": [
    {
      "cell_type": "markdown",
      "metadata": {
        "id": "view-in-github",
        "colab_type": "text"
      },
      "source": [
        "<a href=\"https://colab.research.google.com/github/ThrentPorca/CPEN21A-ECE-2-3/blob/main/Control_Structure.ipynb\" target=\"_parent\"><img src=\"https://colab.research.google.com/assets/colab-badge.svg\" alt=\"Open In Colab\"/></a>"
      ]
    },
    {
      "cell_type": "markdown",
      "metadata": {
        "id": "PyWhzw0yoD1d"
      },
      "source": [
        "### lf Statements"
      ]
    },
    {
      "cell_type": "code",
      "metadata": {
        "colab": {
          "base_uri": "https://localhost:8080/"
        },
        "id": "Qn6ZDt6YpFws",
        "outputId": "f5ebc07b-d17f-48fc-b9ae-ab18fe397e88"
      },
      "source": [
        "#Conditional Variables\n",
        "#If condition:\n",
        "    #block statements\n",
        "\n",
        "#Examples:\n",
        "a=12\n",
        "b=100\n",
        "\n",
        "if a<b:\n",
        "  print(\"a is less than b\")\n",
        "if a>b:\n",
        "  print(b\" is greater than a\")"
      ],
      "execution_count": 4,
      "outputs": [
        {
          "output_type": "stream",
          "name": "stdout",
          "text": [
            "a is less than b\n"
          ]
        }
      ]
    },
    {
      "cell_type": "markdown",
      "metadata": {
        "id": "_ZUUioT_pqif"
      },
      "source": [
        "### Elif Statements\n"
      ]
    },
    {
      "cell_type": "code",
      "metadata": {
        "colab": {
          "base_uri": "https://localhost:8080/"
        },
        "id": "9030BmLkpvX-",
        "outputId": "27e55174-0453-41eb-cabb-9b6f5fea1262"
      },
      "source": [
        "#declaration of variables\n",
        "#if condition 1:\n",
        "    #block of statements\n",
        "#elif condition 2:\n",
        "    #block of statements\n",
        "\n",
        "a=30\n",
        "b=15\n",
        "\n",
        "if a<b:\n",
        "  print(\"a is less than b\")\n",
        "elif a>b:\n",
        "  print(\"a is greater tha b\")"
      ],
      "execution_count": 5,
      "outputs": [
        {
          "output_type": "stream",
          "name": "stdout",
          "text": [
            "a is greater tha b\n"
          ]
        }
      ]
    },
    {
      "cell_type": "markdown",
      "metadata": {
        "id": "pz-ry9yErDTD"
      },
      "source": [
        "### Else Statement"
      ]
    },
    {
      "cell_type": "code",
      "metadata": {
        "colab": {
          "base_uri": "https://localhost:8080/"
        },
        "id": "gVq41ANor2Qr",
        "outputId": "0e60f07d-6e7c-42c9-873d-da4736426c55"
      },
      "source": [
        "a=30\n",
        "b=30\n",
        "\n",
        "if a<b:\n",
        "  print(\"a is less than b\")\n",
        "elif a>b:\n",
        "  print(\"a is greater than b\")\n",
        "else:\n",
        "  print(\"a is equal to b\")"
      ],
      "execution_count": 7,
      "outputs": [
        {
          "output_type": "stream",
          "name": "stdout",
          "text": [
            "a is equal to b\n"
          ]
        }
      ]
    },
    {
      "cell_type": "markdown",
      "metadata": {
        "id": "yR3u0opAsSmN"
      },
      "source": [
        "### Short Hand lf Statement"
      ]
    },
    {
      "cell_type": "code",
      "metadata": {
        "id": "s7bmDmCKsXzZ"
      },
      "source": [
        "a=16\n",
        "b=22\n",
        "if a>b: print(\"a is greater than b\")"
      ],
      "execution_count": 9,
      "outputs": []
    },
    {
      "cell_type": "markdown",
      "metadata": {
        "id": "RLaXrK9eshEZ"
      },
      "source": [
        "### Short Hand lf...Else Statement"
      ]
    },
    {
      "cell_type": "code",
      "metadata": {
        "colab": {
          "base_uri": "https://localhost:8080/"
        },
        "id": "XDu8lBlYsmrL",
        "outputId": "30bf6e1c-55a7-49bf-d3ef-1f6c7bb4ac9b"
      },
      "source": [
        "print(a)\n",
        "print(b)\n",
        "print(\"a is greater than b\")if a>b else print(\"b is greater than a\")"
      ],
      "execution_count": 10,
      "outputs": [
        {
          "output_type": "stream",
          "name": "stdout",
          "text": [
            "16\n",
            "22\n",
            "b is greater than a\n"
          ]
        }
      ]
    },
    {
      "cell_type": "markdown",
      "metadata": {
        "id": "8DQoE87es_GJ"
      },
      "source": [
        "### And logic condition"
      ]
    },
    {
      "cell_type": "code",
      "metadata": {
        "colab": {
          "base_uri": "https://localhost:8080/"
        },
        "id": "BRxzyqo6tCkh",
        "outputId": "0ef9d7ac-1601-474d-edb1-bc3154f265dc"
      },
      "source": [
        "a=200\n",
        "b=33\n",
        "c=500\n",
        "\n",
        "if a>b and c>a:\n",
        "  print(\"both conditions are True\")\n",
        "else:\n",
        "  print(\"Either of the conditions is True\")"
      ],
      "execution_count": 11,
      "outputs": [
        {
          "output_type": "stream",
          "name": "stdout",
          "text": [
            "both conditions are True\n"
          ]
        }
      ]
    },
    {
      "cell_type": "markdown",
      "metadata": {
        "id": "OgkGNpYlt00Y"
      },
      "source": [
        "### Or Logic Condition"
      ]
    },
    {
      "cell_type": "code",
      "metadata": {
        "colab": {
          "base_uri": "https://localhost:8080/"
        },
        "id": "fbCnVkVKt3q5",
        "outputId": "8f8ec201-7285-460e-9e13-23a21108e997"
      },
      "source": [
        "if a<b or c>a:\n",
        "  print(\"True\")\n",
        "else:\n",
        "  print(\"False\")"
      ],
      "execution_count": 12,
      "outputs": [
        {
          "output_type": "stream",
          "name": "stdout",
          "text": [
            "True\n"
          ]
        }
      ]
    },
    {
      "cell_type": "markdown",
      "metadata": {
        "id": "Ui844j6CuJ8y"
      },
      "source": [
        "### Nested lf"
      ]
    },
    {
      "cell_type": "code",
      "metadata": {
        "colab": {
          "base_uri": "https://localhost:8080/"
        },
        "id": "EpyOlULSuMJq",
        "outputId": "68c2df77-32ad-4e84-aea5-25cac50d3de0"
      },
      "source": [
        "x=11\n",
        "if x>10:\n",
        "  print(\"Above ten!\")\n",
        "  if x>20:\n",
        "    print(\"and above 20!\")\n",
        "  if x>30:\n",
        "    print('and above 30!')\n",
        "  else:\n",
        "    print(\"not above 20\")\n",
        "else:\n",
        "  print(\"below 10\")"
      ],
      "execution_count": 14,
      "outputs": [
        {
          "output_type": "stream",
          "name": "stdout",
          "text": [
            "Above ten!\n",
            "not above 20\n"
          ]
        }
      ]
    },
    {
      "cell_type": "markdown",
      "metadata": {
        "id": "A6vtsX2gu8cs"
      },
      "source": [
        "### Example 1"
      ]
    },
    {
      "cell_type": "code",
      "metadata": {
        "colab": {
          "base_uri": "https://localhost:8080/"
        },
        "id": "LPOtcKP0u-x1",
        "outputId": "54c2e51e-55c7-423a-e239-f9dce391ae40"
      },
      "source": [
        "t = int(input(\"Enter your Age:\"))\n",
        "if t>=18:\n",
        "  print(\"You are\", t, \"years old, you are qualified to vote.\")\n",
        "else:\n",
        "  print(\"You are only\", t, \"years old, you are not qualified to vote\")"
      ],
      "execution_count": 25,
      "outputs": [
        {
          "output_type": "stream",
          "name": "stdout",
          "text": [
            "Enter your Age:20\n",
            "You are 20 years old, you are qualified to vote.\n"
          ]
        }
      ]
    },
    {
      "cell_type": "markdown",
      "metadata": {
        "id": "9nGR_jU2wrZd"
      },
      "source": [
        "### Example 2"
      ]
    },
    {
      "cell_type": "code",
      "metadata": {
        "colab": {
          "base_uri": "https://localhost:8080/"
        },
        "id": "l_r_tl5Gwtld",
        "outputId": "b1fcfdca-48fe-42fd-efb0-8424da7d2a3b"
      },
      "source": [
        "q = float(input(\"Input any number you want:\"))\n",
        "if q > 0:\n",
        "  print(\"The number\", q,\"is a postive number\")\n",
        "elif q == 0:\n",
        "  print(\"The number\", q,\"is zero\")\n",
        "else:\n",
        "  print(\"The number\", q,\"is a negative number\")"
      ],
      "execution_count": 28,
      "outputs": [
        {
          "output_type": "stream",
          "name": "stdout",
          "text": [
            "Input any number you want:-87.65\n",
            "The number -87.65 is a negative number\n"
          ]
        }
      ]
    },
    {
      "cell_type": "markdown",
      "metadata": {
        "id": "TRYgjJ5Bx9aJ"
      },
      "source": [
        "### Example 3"
      ]
    },
    {
      "cell_type": "code",
      "metadata": {
        "colab": {
          "base_uri": "https://localhost:8080/"
        },
        "id": "jviQCcYIx_yp",
        "outputId": "a372eca5-e266-4092-8b91-5d41d90017c3"
      },
      "source": [
        "#Write a Phyton Program if the grades are:\n",
        "#grade>=75 'Passed'\n",
        "#grade=74  'Remedial'\n",
        "#grade==74  'Failed'\n",
        "\n",
        "g= float(input(\"Enteryour grade:\"))\n",
        "\n",
        "if g >= 75:\n",
        "  print(\"You Passed, Congratulations!\")\n",
        "elif g==74:\n",
        "  print(\"Please take a Remedial Class\")\n",
        "else:\n",
        "  print(\"You Failed, Better luck next time\")"
      ],
      "execution_count": 30,
      "outputs": [
        {
          "output_type": "stream",
          "name": "stdout",
          "text": [
            "Enteryour grade:73.2\n",
            "You Failed, Better luck next time\n"
          ]
        }
      ]
    },
    {
      "cell_type": "code",
      "metadata": {
        "colab": {
          "base_uri": "https://localhost:8080/"
        },
        "id": "IL6E_oNFzrlk",
        "outputId": "c2f80b89-927d-487c-9d43-b924d399512f"
      },
      "source": [
        "g= float(input(\"Enter your grade:\"))\n",
        "\n",
        "if g >=75:\n",
        "  print(\"You Passed, Conratulations\")\n",
        "elif g > 74 and g < 75:\n",
        "  print(\"Plese take a Remedial Class\")\n",
        "else:\n",
        "  print(\"You Failed, Better luck next time\")"
      ],
      "execution_count": 31,
      "outputs": [
        {
          "output_type": "stream",
          "name": "stdout",
          "text": [
            "Enter your grade:74.99999\n",
            "Plese take a Remedial Class\n"
          ]
        }
      ]
    }
  ]
}